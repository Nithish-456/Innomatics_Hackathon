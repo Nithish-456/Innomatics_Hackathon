{
 "cells": [
  {
   "cell_type": "code",
   "execution_count": 2,
   "id": "e2716493-3ce3-41b4-878f-9158847a62cd",
   "metadata": {},
   "outputs": [],
   "source": [
    "import pandas as pd"
   ]
  },
  {
   "cell_type": "code",
   "execution_count": 3,
   "id": "be64f2db-8376-422f-8019-caf938fd249f",
   "metadata": {},
   "outputs": [],
   "source": [
    "df1=pd.read_csv(\"movies.csv\")"
   ]
  },
  {
   "cell_type": "code",
   "execution_count": 6,
   "id": "4bf8aa6c-646e-499d-94c1-852af8f22f60",
   "metadata": {},
   "outputs": [
    {
     "data": {
      "text/plain": [
       "(9742, 3)"
      ]
     },
     "execution_count": 6,
     "metadata": {},
     "output_type": "execute_result"
    }
   ],
   "source": [
    "df1.shape"
   ]
  },
  {
   "cell_type": "code",
   "execution_count": 4,
   "id": "8edf11fc-aff9-495b-8f13-03ad3311c828",
   "metadata": {},
   "outputs": [
    {
     "data": {
      "text/plain": [
       "(100836, 4)"
      ]
     },
     "execution_count": 4,
     "metadata": {},
     "output_type": "execute_result"
    }
   ],
   "source": [
    "df2 = pd.read_csv(\"ratings.csv\")\n",
    "df2.shape"
   ]
  },
  {
   "cell_type": "code",
   "execution_count": 8,
   "id": "56f834bc-5005-418a-bad3-946f56b2ed6b",
   "metadata": {},
   "outputs": [
    {
     "data": {
      "text/html": [
       "<div>\n",
       "<style scoped>\n",
       "    .dataframe tbody tr th:only-of-type {\n",
       "        vertical-align: middle;\n",
       "    }\n",
       "\n",
       "    .dataframe tbody tr th {\n",
       "        vertical-align: top;\n",
       "    }\n",
       "\n",
       "    .dataframe thead th {\n",
       "        text-align: right;\n",
       "    }\n",
       "</style>\n",
       "<table border=\"1\" class=\"dataframe\">\n",
       "  <thead>\n",
       "    <tr style=\"text-align: right;\">\n",
       "      <th></th>\n",
       "      <th>userId</th>\n",
       "      <th>movieId</th>\n",
       "      <th>rating</th>\n",
       "      <th>timestamp</th>\n",
       "    </tr>\n",
       "  </thead>\n",
       "  <tbody>\n",
       "    <tr>\n",
       "      <th>0</th>\n",
       "      <td>1</td>\n",
       "      <td>1</td>\n",
       "      <td>4.0</td>\n",
       "      <td>964982703</td>\n",
       "    </tr>\n",
       "    <tr>\n",
       "      <th>1</th>\n",
       "      <td>1</td>\n",
       "      <td>3</td>\n",
       "      <td>4.0</td>\n",
       "      <td>964981247</td>\n",
       "    </tr>\n",
       "    <tr>\n",
       "      <th>2</th>\n",
       "      <td>1</td>\n",
       "      <td>6</td>\n",
       "      <td>4.0</td>\n",
       "      <td>964982224</td>\n",
       "    </tr>\n",
       "    <tr>\n",
       "      <th>3</th>\n",
       "      <td>1</td>\n",
       "      <td>47</td>\n",
       "      <td>5.0</td>\n",
       "      <td>964983815</td>\n",
       "    </tr>\n",
       "    <tr>\n",
       "      <th>4</th>\n",
       "      <td>1</td>\n",
       "      <td>50</td>\n",
       "      <td>5.0</td>\n",
       "      <td>964982931</td>\n",
       "    </tr>\n",
       "  </tbody>\n",
       "</table>\n",
       "</div>"
      ],
      "text/plain": [
       "   userId  movieId  rating  timestamp\n",
       "0       1        1     4.0  964982703\n",
       "1       1        3     4.0  964981247\n",
       "2       1        6     4.0  964982224\n",
       "3       1       47     5.0  964983815\n",
       "4       1       50     5.0  964982931"
      ]
     },
     "execution_count": 8,
     "metadata": {},
     "output_type": "execute_result"
    }
   ],
   "source": [
    "df2.head()"
   ]
  },
  {
   "cell_type": "code",
   "execution_count": 6,
   "id": "7255f27d-86b4-4dc7-ade5-2171fd823be2",
   "metadata": {},
   "outputs": [
    {
     "data": {
      "text/plain": [
       "userId\n",
       "414    2698\n",
       "599    2478\n",
       "474    2108\n",
       "448    1864\n",
       "274    1346\n",
       "       ... \n",
       "442      20\n",
       "569      20\n",
       "320      20\n",
       "576      20\n",
       "53       20\n",
       "Name: count, Length: 610, dtype: int64"
      ]
     },
     "execution_count": 6,
     "metadata": {},
     "output_type": "execute_result"
    }
   ],
   "source": [
    "df2['userId'].value_counts()"
   ]
  },
  {
   "cell_type": "code",
   "execution_count": 8,
   "id": "efafd85d-545f-4023-a038-763e00a4597f",
   "metadata": {},
   "outputs": [
    {
     "name": "stdout",
     "output_type": "stream",
     "text": [
      "610\n"
     ]
    }
   ],
   "source": [
    "unique_users = df2['userId'].nunique()\n",
    "print(unique_users)"
   ]
  },
  {
   "cell_type": "code",
   "execution_count": 9,
   "id": "3ffc5194-661d-483e-ac96-dfa1f3881d37",
   "metadata": {},
   "outputs": [
    {
     "name": "stdout",
     "output_type": "stream",
     "text": [
      "The movie with the maximum number of user ratings is: 'Forrest Gump (1994)' with 329 ratings.\n"
     ]
    }
   ],
   "source": [
    "merged_df = pd.merge(df2, df1, on='movieId')\n",
    "# Count the number of ratings for each movie\n",
    "ratings_count = merged_df['title'].value_counts()\n",
    "most_rated_movie = ratings_count.idxmax()\n",
    "max_ratings = ratings_count.max()\n",
    "print(f\"The movie with the maximum number of user ratings is: '{most_rated_movie}' with {max_ratings} ratings.\")"
   ]
  },
  {
   "cell_type": "code",
   "execution_count": 5,
   "id": "5a99c1f6-248a-4f35-8b64-329b2ec47c8c",
   "metadata": {},
   "outputs": [],
   "source": [
    "df3 = pd.read_csv(\"tags.csv\")"
   ]
  },
  {
   "cell_type": "code",
   "execution_count": 12,
   "id": "5efc3e89-c8e9-45b9-a40c-198d81288da8",
   "metadata": {},
   "outputs": [
    {
     "data": {
      "text/html": [
       "<div>\n",
       "<style scoped>\n",
       "    .dataframe tbody tr th:only-of-type {\n",
       "        vertical-align: middle;\n",
       "    }\n",
       "\n",
       "    .dataframe tbody tr th {\n",
       "        vertical-align: top;\n",
       "    }\n",
       "\n",
       "    .dataframe thead th {\n",
       "        text-align: right;\n",
       "    }\n",
       "</style>\n",
       "<table border=\"1\" class=\"dataframe\">\n",
       "  <thead>\n",
       "    <tr style=\"text-align: right;\">\n",
       "      <th></th>\n",
       "      <th>userId</th>\n",
       "      <th>movieId</th>\n",
       "      <th>tag</th>\n",
       "      <th>timestamp</th>\n",
       "    </tr>\n",
       "  </thead>\n",
       "  <tbody>\n",
       "    <tr>\n",
       "      <th>0</th>\n",
       "      <td>2</td>\n",
       "      <td>60756</td>\n",
       "      <td>funny</td>\n",
       "      <td>1445714994</td>\n",
       "    </tr>\n",
       "    <tr>\n",
       "      <th>1</th>\n",
       "      <td>2</td>\n",
       "      <td>60756</td>\n",
       "      <td>Highly quotable</td>\n",
       "      <td>1445714996</td>\n",
       "    </tr>\n",
       "    <tr>\n",
       "      <th>2</th>\n",
       "      <td>2</td>\n",
       "      <td>60756</td>\n",
       "      <td>will ferrell</td>\n",
       "      <td>1445714992</td>\n",
       "    </tr>\n",
       "    <tr>\n",
       "      <th>3</th>\n",
       "      <td>2</td>\n",
       "      <td>89774</td>\n",
       "      <td>Boxing story</td>\n",
       "      <td>1445715207</td>\n",
       "    </tr>\n",
       "    <tr>\n",
       "      <th>4</th>\n",
       "      <td>2</td>\n",
       "      <td>89774</td>\n",
       "      <td>MMA</td>\n",
       "      <td>1445715200</td>\n",
       "    </tr>\n",
       "  </tbody>\n",
       "</table>\n",
       "</div>"
      ],
      "text/plain": [
       "   userId  movieId              tag   timestamp\n",
       "0       2    60756            funny  1445714994\n",
       "1       2    60756  Highly quotable  1445714996\n",
       "2       2    60756     will ferrell  1445714992\n",
       "3       2    89774     Boxing story  1445715207\n",
       "4       2    89774              MMA  1445715200"
      ]
     },
     "execution_count": 12,
     "metadata": {},
     "output_type": "execute_result"
    }
   ],
   "source": [
    "df3.head()"
   ]
  },
  {
   "cell_type": "code",
   "execution_count": 10,
   "id": "f7492edb-8854-4b09-be5b-b3a26a4fce1a",
   "metadata": {},
   "outputs": [
    {
     "name": "stdout",
     "output_type": "stream",
     "text": [
      "Tags submitted by users for 'Matrix, The (1999)': ['martial arts' 'sci-fi' 'alternate universe' 'philosophy'\n",
      " 'post apocalyptic']\n"
     ]
    }
   ],
   "source": [
    "# Select all the correct tags submitted by users to \"Matrix, The (1999)\" movie?\n",
    "matrix_movie_id = df1[df1['title'] == 'Matrix, The (1999)']['movieId'].values[0]\n",
    "matrix_tags = df3[df3['movieId'] == matrix_movie_id]['tag'].unique()\n",
    "print(f\"Tags submitted by users for 'Matrix, The (1999)': {matrix_tags}\")"
   ]
  },
  {
   "cell_type": "code",
   "execution_count": 11,
   "id": "5c53e343-ad24-4262-a64f-5ad63e745ea5",
   "metadata": {},
   "outputs": [
    {
     "name": "stdout",
     "output_type": "stream",
     "text": [
      "The average user rating for 'Terminator 2: Judgment Day (1991)' is: 3.97\n"
     ]
    }
   ],
   "source": [
    "# What is the average user rating for movie named \"Terminator 2: Judgment Day (1991)\"?\n",
    "terminator_movie_id = df1[df1['title'] == 'Terminator 2: Judgment Day (1991)']['movieId'].values[0]\n",
    "terminator_ratings = df2[df2['movieId'] == terminator_movie_id]['rating']\n",
    "average_rating = terminator_ratings.mean()\n",
    "print(f\"The average user rating for 'Terminator 2: Judgment Day (1991)' is: {average_rating:.2f}\")"
   ]
  },
  {
   "cell_type": "code",
   "execution_count": 12,
   "id": "7a6a6dc2-10ed-44b9-a710-b8d84897117e",
   "metadata": {},
   "outputs": [
    {
     "data": {
      "image/png": "[encoded data removed]",
      "text/plain": [
       "<Figure size 1000x600 with 1 Axes>"
      ]
     },
     "metadata": {},
     "output_type": "display_data"
    }
   ],
   "source": [
    "# How does the data distribution of user ratings for \"Fight Club (1999)\" movie looks like?\n",
    "import matplotlib.pyplot as plt\n",
    "import seaborn as sns\n",
    "\n",
    "fight_club_movie_id = df1[df1['title'] == 'Fight Club (1999)']['movieId'].values[0]\n",
    "fight_club_ratings = df2[df2['movieId'] == fight_club_movie_id]['rating']\n",
    "plt.figure(figsize=(10, 6))\n",
    "sns.histplot(fight_club_ratings, bins=10, kde=True)\n",
    "plt.title('Distribution of User Ratings for \"Fight Club (1999)\"')\n",
    "plt.xlabel('Rating')\n",
    "plt.ylabel('Number of Ratings')\n",
    "plt.show()"
   ]
  },
  {
   "cell_type": "markdown",
   "id": "ff595b45-615c-4a0a-bd23-bb9d6e344723",
   "metadata": {},
   "source": [
    "* We can see that the data distribution is left skewed."
   ]
  },
  {
   "cell_type": "code",
   "execution_count": 6,
   "id": "c3f8ba0e-3e58-44e7-a99f-502fb5b1e2f1",
   "metadata": {},
   "outputs": [
    {
     "data": {
      "text/html": [
       "<div>\n",
       "<style scoped>\n",
       "    .dataframe tbody tr th:only-of-type {\n",
       "        vertical-align: middle;\n",
       "    }\n",
       "\n",
       "    .dataframe tbody tr th {\n",
       "        vertical-align: top;\n",
       "    }\n",
       "\n",
       "    .dataframe thead th {\n",
       "        text-align: right;\n",
       "    }\n",
       "</style>\n",
       "<table border=\"1\" class=\"dataframe\">\n",
       "  <thead>\n",
       "    <tr style=\"text-align: right;\">\n",
       "      <th></th>\n",
       "      <th>movieId</th>\n",
       "      <th>title</th>\n",
       "      <th>genres</th>\n",
       "      <th>rating_count</th>\n",
       "      <th>rating_mean</th>\n",
       "    </tr>\n",
       "  </thead>\n",
       "  <tbody>\n",
       "    <tr>\n",
       "      <th>0</th>\n",
       "      <td>1</td>\n",
       "      <td>Toy Story (1995)</td>\n",
       "      <td>Adventure|Animation|Children|Comedy|Fantasy</td>\n",
       "      <td>215</td>\n",
       "      <td>3.920930</td>\n",
       "    </tr>\n",
       "    <tr>\n",
       "      <th>1</th>\n",
       "      <td>2</td>\n",
       "      <td>Jumanji (1995)</td>\n",
       "      <td>Adventure|Children|Fantasy</td>\n",
       "      <td>110</td>\n",
       "      <td>3.431818</td>\n",
       "    </tr>\n",
       "    <tr>\n",
       "      <th>2</th>\n",
       "      <td>3</td>\n",
       "      <td>Grumpier Old Men (1995)</td>\n",
       "      <td>Comedy|Romance</td>\n",
       "      <td>52</td>\n",
       "      <td>3.259615</td>\n",
       "    </tr>\n",
       "    <tr>\n",
       "      <th>5</th>\n",
       "      <td>6</td>\n",
       "      <td>Heat (1995)</td>\n",
       "      <td>Action|Crime|Thriller</td>\n",
       "      <td>102</td>\n",
       "      <td>3.946078</td>\n",
       "    </tr>\n",
       "    <tr>\n",
       "      <th>6</th>\n",
       "      <td>7</td>\n",
       "      <td>Sabrina (1995)</td>\n",
       "      <td>Comedy|Romance</td>\n",
       "      <td>54</td>\n",
       "      <td>3.185185</td>\n",
       "    </tr>\n",
       "  </tbody>\n",
       "</table>\n",
       "</div>"
      ],
      "text/plain": [
       "   movieId                    title  \\\n",
       "0        1         Toy Story (1995)   \n",
       "1        2           Jumanji (1995)   \n",
       "2        3  Grumpier Old Men (1995)   \n",
       "5        6              Heat (1995)   \n",
       "6        7           Sabrina (1995)   \n",
       "\n",
       "                                        genres  rating_count  rating_mean  \n",
       "0  Adventure|Animation|Children|Comedy|Fantasy           215     3.920930  \n",
       "1                   Adventure|Children|Fantasy           110     3.431818  \n",
       "2                               Comedy|Romance            52     3.259615  \n",
       "5                        Action|Crime|Thriller           102     3.946078  \n",
       "6                               Comedy|Romance            54     3.185185  "
      ]
     },
     "execution_count": 6,
     "metadata": {},
     "output_type": "execute_result"
    }
   ],
   "source": [
    "# Group the user ratings based on movieId and apply aggregation like count and mean\n",
    "ratings_grouped = df2.groupby('movieId').agg(\n",
    "    rating_count=('rating', 'count'),\n",
    "    rating_mean=('rating', 'mean')\n",
    ").reset_index()\n",
    "# Applying inner join on the DataFrame created from movies.csv and the grouped df\n",
    "merged_df = pd.merge(df1, ratings_grouped, on='movieId', how='inner')\n",
    "# Filter only those movies which have more than 50 user ratings\n",
    "final_df = merged_df[merged_df['rating_count'] > 50]\n",
    "final_df.head()"
   ]
  },
  {
   "cell_type": "code",
   "execution_count": 14,
   "id": "544b8385-7843-4886-a61f-a57e31e10b72",
   "metadata": {},
   "outputs": [
    {
     "name": "stdout",
     "output_type": "stream",
     "text": [
      "Most popular movie based on average user ratings:\n",
      "\n",
      "Title: Shawshank Redemption, The (1994)\n"
     ]
    }
   ],
   "source": [
    "# Which movie is the most popular based on  average user ratings?\n",
    "most_popular_movie = final_df.loc[final_df['rating_mean'].idxmax()]\n",
    "print(f\"Most popular movie based on average user ratings:\\n\")\n",
    "print(f\"Title: {most_popular_movie['title']}\")"
   ]
  },
  {
   "cell_type": "code",
   "execution_count": 24,
   "id": "88432437-6a2a-4380-88a0-434c2f57677e",
   "metadata": {},
   "outputs": [
    {
     "name": "stdout",
     "output_type": "stream",
     "text": [
      "Top 5 popular movies based on the number of user ratings:\n",
      "\n",
      "314                  Forrest Gump (1994)\n",
      "277     Shawshank Redemption, The (1994)\n",
      "257                  Pulp Fiction (1994)\n",
      "510     Silence of the Lambs, The (1991)\n",
      "1938                  Matrix, The (1999)\n",
      "Name: title, dtype: object\n"
     ]
    }
   ],
   "source": [
    "# Top 5 popular movies based on number of user ratings.\n",
    "top_5= final_df.sort_values(by='rating_count', ascending=False).head(5)\n",
    "print(\"Top 5 popular movies based on the number of user ratings:\\n\")\n",
    "print(top_5['title'])"
   ]
  },
  {
   "cell_type": "code",
   "execution_count": 27,
   "id": "cefcf09e-d00d-4485-a3de-2e6a0c87bb53",
   "metadata": {},
   "outputs": [
    {
     "name": "stdout",
     "output_type": "stream",
     "text": [
      "Title: Jurassic Park (1993)\n"
     ]
    }
   ],
   "source": [
    "# Which Sci-Fi movie is \"third most popular\" based on the number of user ratings?\n",
    "sci_fi_movies_df = final_df[final_df['genres'].str.contains('Sci-Fi', case=False, na=False)]\n",
    "if len(sci_fi_movies_df) >= 3:\n",
    "    sorted_sci_fi_movies = sci_fi_movies_df.sort_values(by='rating_count', ascending=False)\n",
    "    third = sorted_sci_fi_movies.iloc[2] \n",
    "    print(f\"Title: {third['title']}\")\n",
    "else:\n",
    "    print(\"There are fewer than 3 Sci-Fi movies with more than 50 user ratings.\")"
   ]
  },
  {
   "cell_type": "code",
   "execution_count": 7,
   "id": "1372ff52-e500-4890-a77d-4237a30303cc",
   "metadata": {},
   "outputs": [
    {
     "data": {
      "text/html": [
       "<div>\n",
       "<style scoped>\n",
       "    .dataframe tbody tr th:only-of-type {\n",
       "        vertical-align: middle;\n",
       "    }\n",
       "\n",
       "    .dataframe tbody tr th {\n",
       "        vertical-align: top;\n",
       "    }\n",
       "\n",
       "    .dataframe thead th {\n",
       "        text-align: right;\n",
       "    }\n",
       "</style>\n",
       "<table border=\"1\" class=\"dataframe\">\n",
       "  <thead>\n",
       "    <tr style=\"text-align: right;\">\n",
       "      <th></th>\n",
       "      <th>movieId</th>\n",
       "      <th>imdbId</th>\n",
       "      <th>tmdbId</th>\n",
       "    </tr>\n",
       "  </thead>\n",
       "  <tbody>\n",
       "    <tr>\n",
       "      <th>0</th>\n",
       "      <td>1</td>\n",
       "      <td>114709</td>\n",
       "      <td>862.0</td>\n",
       "    </tr>\n",
       "    <tr>\n",
       "      <th>1</th>\n",
       "      <td>2</td>\n",
       "      <td>113497</td>\n",
       "      <td>8844.0</td>\n",
       "    </tr>\n",
       "    <tr>\n",
       "      <th>2</th>\n",
       "      <td>3</td>\n",
       "      <td>113228</td>\n",
       "      <td>15602.0</td>\n",
       "    </tr>\n",
       "    <tr>\n",
       "      <th>3</th>\n",
       "      <td>4</td>\n",
       "      <td>114885</td>\n",
       "      <td>31357.0</td>\n",
       "    </tr>\n",
       "    <tr>\n",
       "      <th>4</th>\n",
       "      <td>5</td>\n",
       "      <td>113041</td>\n",
       "      <td>11862.0</td>\n",
       "    </tr>\n",
       "  </tbody>\n",
       "</table>\n",
       "</div>"
      ],
      "text/plain": [
       "   movieId  imdbId   tmdbId\n",
       "0        1  114709    862.0\n",
       "1        2  113497   8844.0\n",
       "2        3  113228  15602.0\n",
       "3        4  114885  31357.0\n",
       "4        5  113041  11862.0"
      ]
     },
     "execution_count": 7,
     "metadata": {},
     "output_type": "execute_result"
    }
   ],
   "source": [
    "links = pd.read_csv(\"links.csv\")\n",
    "links.head()"
   ]
  },
  {
   "cell_type": "code",
   "execution_count": 8,
   "id": "4e3e2e4d-eccd-4034-9739-36f58cf299cd",
   "metadata": {},
   "outputs": [],
   "source": [
    "from bs4 import BeautifulSoup\n",
    "import requests\n",
    "import numpy as np"
   ]
  },
  {
   "cell_type": "code",
   "execution_count": null,
   "id": "9da975fd-c642-4499-8a48-e662841d7499",
   "metadata": {},
   "outputs": [],
   "source": [
    "merged_df = pd.merge(final_df, links, on='movieId', how='inner')\n",
    "\n",
    "def scrapper(imdbId):\n",
    "    id = str(int(imdbId))\n",
    "    n_zeroes = 7 - len(id)\n",
    "    new_id = \"0\" * n_zeroes + id\n",
    "    URL = f\"https://www.imdb.com/title/tt{new_id}/\"\n",
    "    request_header = {\n",
    "        'Content-Type': 'text/html; charset=UTF-8',\n",
    "        'User-Agent': 'Mozilla/5.0 (Windows NT 10.0; Win64; x64; rv:109.0) Gecko/20100101 Firefox/119.0',\n",
    "        'Accept-Encoding': 'gzip, deflate, br'\n",
    "    }\n",
    "    try:\n",
    "        response = requests.get(URL, headers=request_header)\n",
    "        soup = BeautifulSoup(response.text, 'html.parser')\n",
    "        imdb_rating = soup.find('span', attrs={'itemprop': 'ratingValue'})\n",
    "        return float(imdb_rating.text) if imdb_rating else np.nan\n",
    "    except Exception as e:\n",
    "        print(f\"Error fetching IMDb rating for {imdbId}: {e}\")\n",
    "        return np.nan\n",
    "\n",
    "# Fetch IMDb ratings for each movie\n",
    "merged_df['imdb_rating'] = merged_df['imdbId'].apply(lambda x: scrapper(x) if pd.notna(x) else np.nan)\n",
    "\n",
    "# Drop movies with no IMDb rating\n",
    "rated_movies_df = merged_df.dropna(subset=['imdb_rating'])\n",
    "\n",
    "# Find the movie with the highest IMDb rating\n",
    "if not rated_movies_df.empty:\n",
    "    highest_rated_movie = rated_movies_df.loc[rated_movies_df['imdb_rating'].idxmax()]\n",
    "\n",
    "    # Print the movieId of the movie with the highest IMDb rating\n",
    "    print(f\"MovieId of the movie with the highest IMDb rating: {highest_rated_movie['movieId']}\")\n",
    "else:\n",
    "    print(\"No movies with IMDb ratings were found.\")\n"
   ]
  }
 ],
 "metadata": {
  "kernelspec": {
   "display_name": "Python 3 (ipykernel)",
   "language": "python",
   "name": "python3"
  },
  "language_info": {
   "codemirror_mode": {
    "name": "ipython",
    "version": 3
   },
   "file_extension": ".py",
   "mimetype": "text/x-python",
   "name": "python",
   "nbconvert_exporter": "python",
   "pygments_lexer": "ipython3",
   "version": "3.11.4"
  }
 },
 "nbformat": 4,
 "nbformat_minor": 5
}
